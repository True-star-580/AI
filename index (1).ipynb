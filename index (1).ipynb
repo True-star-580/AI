{
 "cells": [
  {
   "cell_type": "code",
   "execution_count": 1,
   "metadata": {},
   "outputs": [],
   "source": [
    "# import warnings\n",
    "# warnings.filterwarnings('ignore')\n",
    "# import json\n",
    "# import numpy as np\n",
    "# import pandas as pd\n",
    "# import random\n",
    "# from matplotlib import pyplot as plt\n",
    "# import seaborn as sns\n",
    "# from wordcloud import WordCloud,STOPWORDS\n",
    "# import missingno as msno\n",
    "\n",
    "# from sklearn.feature_extraction.text import CountVectorizer\n",
    "# from sklearn.model_selection import train_test_split\n",
    "# from sklearn.metrics import accuracy_score, precision_recall_fscore_support\n",
    "\n",
    "# from keras.preprocessing import text\n",
    "# import keras\n",
    "# from keras.models import Sequential\n",
    "# from keras.layers import Dense,Embedding,LSTM,Dropout\n",
    "# from keras.callbacks import ReduceLROnPlateau\n",
    "\n",
    "# from tensorflow.keras.preprocessing.sequence import pad_sequences\n",
    "# import nltk\n",
    "# from nltk import word_tokenize\n",
    "# from nltk.stem import PorterStemmer\n",
    "\n",
    "# import torch\n",
    "# from torch.utils.data import Dataset\n",
    "\n",
    "# from transformers import AutoTokenizer, TFAutoModelForSequenceClassification\n",
    "# from transformers import pipeline\n",
    "# from transformers import DistilBertTokenizerFast\n",
    "# from transformers import BertForSequenceClassification, BertTokenizerFast\n",
    "# from transformers import TFDistilBertForSequenceClassification, TFTrainer, TFTrainingArguments\n",
    "# from transformers import BertTokenizer, TFBertForSequenceClassification, BertConfig\n",
    "# from transformers import TrainingArguments, Trainer"
   ]
  },
  {
   "cell_type": "code",
   "execution_count": 2,
   "metadata": {},
   "outputs": [
    {
     "data": {
      "text/html": [
       "<div>\n",
       "<style scoped>\n",
       "    .dataframe tbody tr th:only-of-type {\n",
       "        vertical-align: middle;\n",
       "    }\n",
       "\n",
       "    .dataframe tbody tr th {\n",
       "        vertical-align: top;\n",
       "    }\n",
       "\n",
       "    .dataframe thead th {\n",
       "        text-align: right;\n",
       "    }\n",
       "</style>\n",
       "<table border=\"1\" class=\"dataframe\">\n",
       "  <thead>\n",
       "    <tr style=\"text-align: right;\">\n",
       "      <th></th>\n",
       "      <th>questionType</th>\n",
       "      <th>askerID</th>\n",
       "      <th>questionTime</th>\n",
       "      <th>questionText</th>\n",
       "      <th>answers</th>\n",
       "      <th>asin</th>\n",
       "    </tr>\n",
       "  </thead>\n",
       "  <tbody>\n",
       "    <tr>\n",
       "      <th>0</th>\n",
       "      <td>open-ended</td>\n",
       "      <td>A3VTSR929E3J0R</td>\n",
       "      <td>December 26, 2013</td>\n",
       "      <td>May I request for a manual instruction on this...</td>\n",
       "      <td>[{'answerText': 'Homedics has a complete list ...</td>\n",
       "      <td>B000050FES</td>\n",
       "    </tr>\n",
       "    <tr>\n",
       "      <th>1</th>\n",
       "      <td>open-ended</td>\n",
       "      <td>A1LZ5DJ7AJYAXD</td>\n",
       "      <td>April 26, 2014</td>\n",
       "      <td>Having problems with the heater melting the wa...</td>\n",
       "      <td>[{'answerText': 'I leave the unit on all the t...</td>\n",
       "      <td>B000050FES</td>\n",
       "    </tr>\n",
       "    <tr>\n",
       "      <th>2</th>\n",
       "      <td>yes/no</td>\n",
       "      <td>A1ER8W5FAQM6G5</td>\n",
       "      <td>July 11, 2014</td>\n",
       "      <td>How much wax (in pounds, for instance) does it...</td>\n",
       "      <td>[{'answerText': 'It came with the proper amoun...</td>\n",
       "      <td>B000050FES</td>\n",
       "    </tr>\n",
       "    <tr>\n",
       "      <th>3</th>\n",
       "      <td>open-ended</td>\n",
       "      <td>A1P403R4I7LVPU</td>\n",
       "      <td>December 20, 2013</td>\n",
       "      <td>How to know the expired date of this product?</td>\n",
       "      <td>[{'answerText': 'The expiration date is on the...</td>\n",
       "      <td>B000052YQ2</td>\n",
       "    </tr>\n",
       "    <tr>\n",
       "      <th>4</th>\n",
       "      <td>open-ended</td>\n",
       "      <td>A166KM8A5H1Z2O</td>\n",
       "      <td>February 26, 2014</td>\n",
       "      <td>I am not in the sun as I work inside. I am new...</td>\n",
       "      <td>[{'answerText': 'This product is awesome. I do...</td>\n",
       "      <td>B000052YQ2</td>\n",
       "    </tr>\n",
       "    <tr>\n",
       "      <th>...</th>\n",
       "      <td>...</td>\n",
       "      <td>...</td>\n",
       "      <td>...</td>\n",
       "      <td>...</td>\n",
       "      <td>...</td>\n",
       "      <td>...</td>\n",
       "    </tr>\n",
       "    <tr>\n",
       "      <th>32931</th>\n",
       "      <td>yes/no</td>\n",
       "      <td>A164SPHD6JR4L0</td>\n",
       "      <td>July 2, 2014</td>\n",
       "      <td>is Argan Oil Pure 100% good for Skin?</td>\n",
       "      <td>[{'answerText': 'I really like it.  It is a no...</td>\n",
       "      <td>B00L5JHZJO</td>\n",
       "    </tr>\n",
       "    <tr>\n",
       "      <th>32932</th>\n",
       "      <td>yes/no</td>\n",
       "      <td>A3LMNODD16O8J6</td>\n",
       "      <td>July 2, 2014</td>\n",
       "      <td>I find myself with rough cuticles right around...</td>\n",
       "      <td>[{'answerText': 'Yes, you can. In the evening ...</td>\n",
       "      <td>B00L5JHZJO</td>\n",
       "    </tr>\n",
       "    <tr>\n",
       "      <th>32933</th>\n",
       "      <td>yes/no</td>\n",
       "      <td>A13S7ZT69W96HR</td>\n",
       "      <td>July 2, 2014</td>\n",
       "      <td>is it good for nail beauty?</td>\n",
       "      <td>[{'answerText': 'I would say it's good for cut...</td>\n",
       "      <td>B00L5JHZJO</td>\n",
       "    </tr>\n",
       "    <tr>\n",
       "      <th>32934</th>\n",
       "      <td>open-ended</td>\n",
       "      <td>A1HHOCBWVDXSE</td>\n",
       "      <td>July 2, 2014</td>\n",
       "      <td>how can i use it for Topical Use on Dry Hair?</td>\n",
       "      <td>[{'answerText': 'A little goes a long way!  A ...</td>\n",
       "      <td>B00L5JHZJO</td>\n",
       "    </tr>\n",
       "    <tr>\n",
       "      <th>32935</th>\n",
       "      <td>open-ended</td>\n",
       "      <td>A1ZJ90GJNNH2EK</td>\n",
       "      <td>July 2, 2014</td>\n",
       "      <td>how can i use it for Deep Conditioning Session?</td>\n",
       "      <td>[{'answerText': 'You can use it as a pre-shamp...</td>\n",
       "      <td>B00L5JHZJO</td>\n",
       "    </tr>\n",
       "  </tbody>\n",
       "</table>\n",
       "<p>32936 rows × 6 columns</p>\n",
       "</div>"
      ],
      "text/plain": [
       "      questionType         askerID       questionTime  \\\n",
       "0       open-ended  A3VTSR929E3J0R  December 26, 2013   \n",
       "1       open-ended  A1LZ5DJ7AJYAXD     April 26, 2014   \n",
       "2           yes/no  A1ER8W5FAQM6G5      July 11, 2014   \n",
       "3       open-ended  A1P403R4I7LVPU  December 20, 2013   \n",
       "4       open-ended  A166KM8A5H1Z2O  February 26, 2014   \n",
       "...            ...             ...                ...   \n",
       "32931       yes/no  A164SPHD6JR4L0       July 2, 2014   \n",
       "32932       yes/no  A3LMNODD16O8J6       July 2, 2014   \n",
       "32933       yes/no  A13S7ZT69W96HR       July 2, 2014   \n",
       "32934   open-ended   A1HHOCBWVDXSE       July 2, 2014   \n",
       "32935   open-ended  A1ZJ90GJNNH2EK       July 2, 2014   \n",
       "\n",
       "                                            questionText  \\\n",
       "0      May I request for a manual instruction on this...   \n",
       "1      Having problems with the heater melting the wa...   \n",
       "2      How much wax (in pounds, for instance) does it...   \n",
       "3          How to know the expired date of this product?   \n",
       "4      I am not in the sun as I work inside. I am new...   \n",
       "...                                                  ...   \n",
       "32931              is Argan Oil Pure 100% good for Skin?   \n",
       "32932  I find myself with rough cuticles right around...   \n",
       "32933                        is it good for nail beauty?   \n",
       "32934      how can i use it for Topical Use on Dry Hair?   \n",
       "32935    how can i use it for Deep Conditioning Session?   \n",
       "\n",
       "                                                 answers        asin  \n",
       "0      [{'answerText': 'Homedics has a complete list ...  B000050FES  \n",
       "1      [{'answerText': 'I leave the unit on all the t...  B000050FES  \n",
       "2      [{'answerText': 'It came with the proper amoun...  B000050FES  \n",
       "3      [{'answerText': 'The expiration date is on the...  B000052YQ2  \n",
       "4      [{'answerText': 'This product is awesome. I do...  B000052YQ2  \n",
       "...                                                  ...         ...  \n",
       "32931  [{'answerText': 'I really like it.  It is a no...  B00L5JHZJO  \n",
       "32932  [{'answerText': 'Yes, you can. In the evening ...  B00L5JHZJO  \n",
       "32933  [{'answerText': 'I would say it's good for cut...  B00L5JHZJO  \n",
       "32934  [{'answerText': 'A little goes a long way!  A ...  B00L5JHZJO  \n",
       "32935  [{'answerText': 'You can use it as a pre-shamp...  B00L5JHZJO  \n",
       "\n",
       "[32936 rows x 6 columns]"
      ]
     },
     "execution_count": 2,
     "metadata": {},
     "output_type": "execute_result"
    }
   ],
   "source": [
    "import pandas as pd\n",
    "import gzip\n",
    "import nltk\n",
    "import string\n",
    "import random\n",
    "\n",
    "import pandas as pd\n",
    "import gzip\n",
    "\n",
    "def parse(path):\n",
    "    g = gzip.open(path, 'rb')\n",
    "    for l in g:\n",
    "        yield eval(l)\n",
    "\n",
    "def getDF(path):\n",
    "    data = list(parse(path))\n",
    "    df = pd.json_normalize(data, 'questions', ['asin'])\n",
    "    return df\n",
    "\n",
    "# Replace 'QA_Beauty.json.gz' with the actual path to your Gzip-compressed JSON file\n",
    "df = getDF('QA_Beauty.json.gz')\n",
    "\n",
    "# Display the DataFrame\n",
    "df"
   ]
  },
  {
   "cell_type": "code",
   "execution_count": 3,
   "metadata": {},
   "outputs": [
    {
     "data": {
      "text/plain": [
       "open-ended    28380\n",
       "yes/no         4556\n",
       "Name: questionType, dtype: int64"
      ]
     },
     "execution_count": 3,
     "metadata": {},
     "output_type": "execute_result"
    }
   ],
   "source": [
    "#Distribution of question type\n",
    "df['questionType'].value_counts()"
   ]
  },
  {
   "cell_type": "code",
   "execution_count": 4,
   "metadata": {},
   "outputs": [
    {
     "name": "stdout",
     "output_type": "stream",
     "text": [
      "<class 'pandas.core.frame.DataFrame'>\n",
      "RangeIndex: 32936 entries, 0 to 32935\n",
      "Data columns (total 6 columns):\n",
      " #   Column        Non-Null Count  Dtype \n",
      "---  ------        --------------  ----- \n",
      " 0   questionType  32936 non-null  object\n",
      " 1   askerID       32936 non-null  object\n",
      " 2   questionTime  32936 non-null  object\n",
      " 3   questionText  32936 non-null  object\n",
      " 4   answers       32936 non-null  object\n",
      " 5   asin          32936 non-null  object\n",
      "dtypes: object(6)\n",
      "memory usage: 1.5+ MB\n"
     ]
    }
   ],
   "source": [
    "df.info()"
   ]
  },
  {
   "cell_type": "code",
   "execution_count": 5,
   "metadata": {},
   "outputs": [
    {
     "data": {
      "text/plain": [
       "questionType  askerID  questionTime  questionText  answers  asin \n",
       "False         False    False         False         False    False    32936\n",
       "dtype: int64"
      ]
     },
     "execution_count": 5,
     "metadata": {},
     "output_type": "execute_result"
    }
   ],
   "source": [
    "df.isnull().value_counts()"
   ]
  },
  {
   "cell_type": "markdown",
   "metadata": {},
   "source": [
    "univariate analysis"
   ]
  },
  {
   "cell_type": "code",
   "execution_count": 6,
   "metadata": {},
   "outputs": [
    {
     "data": {
      "image/png": "[encoded data removed]",
      "text/plain": [
       "<Figure size 1000x500 with 1 Axes>"
      ]
     },
     "metadata": {},
     "output_type": "display_data"
    }
   ],
   "source": [
    "import matplotlib.pyplot as plt\n",
    "\n",
    "def univariate_bar_plot(data, column):\n",
    "    \"\"\"\n",
    "    Create a univariate bar graph for a specific column in the DataFrame.\n",
    "\n",
    "    Parameters:\n",
    "    - data: DataFrame\n",
    "    - column: str, the column for which to create the bar graph\n",
    "    \"\"\"\n",
    "    plt.figure(figsize=(10, 5))\n",
    "    data[column].value_counts().plot(kind='bar')\n",
    "    plt.title(f'Univariate Bar Plot for {column}')\n",
    "    plt.xlabel(column)\n",
    "    plt.ylabel('Count')\n",
    "    plt.show()\n",
    "\n",
    "# Example usage:\n",
    "# Assuming 'questionType' is a column in your DataFrame 'df'\n",
    "univariate_bar_plot(df, 'questionType')"
   ]
  },
  {
   "cell_type": "code",
   "execution_count": 7,
   "metadata": {},
   "outputs": [
    {
     "data": {
      "text/html": [
       "<div>\n",
       "<style scoped>\n",
       "    .dataframe tbody tr th:only-of-type {\n",
       "        vertical-align: middle;\n",
       "    }\n",
       "\n",
       "    .dataframe tbody tr th {\n",
       "        vertical-align: top;\n",
       "    }\n",
       "\n",
       "    .dataframe thead th {\n",
       "        text-align: right;\n",
       "    }\n",
       "</style>\n",
       "<table border=\"1\" class=\"dataframe\">\n",
       "  <thead>\n",
       "    <tr style=\"text-align: right;\">\n",
       "      <th></th>\n",
       "      <th>questionType</th>\n",
       "      <th>askerID</th>\n",
       "      <th>questionTime</th>\n",
       "      <th>questionText</th>\n",
       "      <th>answers</th>\n",
       "      <th>asin</th>\n",
       "    </tr>\n",
       "  </thead>\n",
       "  <tbody>\n",
       "    <tr>\n",
       "      <th>0</th>\n",
       "      <td>open-ended</td>\n",
       "      <td>A3VTSR929E3J0R</td>\n",
       "      <td>December 26, 2013</td>\n",
       "      <td>May I request for a manual instruction on this...</td>\n",
       "      <td>[{'answerText': 'Homedics has a complete list ...</td>\n",
       "      <td>B000050FES</td>\n",
       "    </tr>\n",
       "    <tr>\n",
       "      <th>1</th>\n",
       "      <td>open-ended</td>\n",
       "      <td>A1LZ5DJ7AJYAXD</td>\n",
       "      <td>April 26, 2014</td>\n",
       "      <td>Having problems with the heater melting the wa...</td>\n",
       "      <td>[{'answerText': 'I leave the unit on all the t...</td>\n",
       "      <td>B000050FES</td>\n",
       "    </tr>\n",
       "    <tr>\n",
       "      <th>2</th>\n",
       "      <td>yes/no</td>\n",
       "      <td>A1ER8W5FAQM6G5</td>\n",
       "      <td>July 11, 2014</td>\n",
       "      <td>How much wax (in pounds, for instance) does it...</td>\n",
       "      <td>[{'answerText': 'It came with the proper amoun...</td>\n",
       "      <td>B000050FES</td>\n",
       "    </tr>\n",
       "    <tr>\n",
       "      <th>3</th>\n",
       "      <td>open-ended</td>\n",
       "      <td>A1P403R4I7LVPU</td>\n",
       "      <td>December 20, 2013</td>\n",
       "      <td>How to know the expired date of this product?</td>\n",
       "      <td>[{'answerText': 'The expiration date is on the...</td>\n",
       "      <td>B000052YQ2</td>\n",
       "    </tr>\n",
       "    <tr>\n",
       "      <th>4</th>\n",
       "      <td>open-ended</td>\n",
       "      <td>A166KM8A5H1Z2O</td>\n",
       "      <td>February 26, 2014</td>\n",
       "      <td>I am not in the sun as I work inside. I am new...</td>\n",
       "      <td>[{'answerText': 'This product is awesome. I do...</td>\n",
       "      <td>B000052YQ2</td>\n",
       "    </tr>\n",
       "    <tr>\n",
       "      <th>...</th>\n",
       "      <td>...</td>\n",
       "      <td>...</td>\n",
       "      <td>...</td>\n",
       "      <td>...</td>\n",
       "      <td>...</td>\n",
       "      <td>...</td>\n",
       "    </tr>\n",
       "    <tr>\n",
       "      <th>32931</th>\n",
       "      <td>yes/no</td>\n",
       "      <td>A164SPHD6JR4L0</td>\n",
       "      <td>July 2, 2014</td>\n",
       "      <td>is Argan Oil Pure 100% good for Skin?</td>\n",
       "      <td>[{'answerText': 'I really like it.  It is a no...</td>\n",
       "      <td>B00L5JHZJO</td>\n",
       "    </tr>\n",
       "    <tr>\n",
       "      <th>32932</th>\n",
       "      <td>yes/no</td>\n",
       "      <td>A3LMNODD16O8J6</td>\n",
       "      <td>July 2, 2014</td>\n",
       "      <td>I find myself with rough cuticles right around...</td>\n",
       "      <td>[{'answerText': 'Yes, you can. In the evening ...</td>\n",
       "      <td>B00L5JHZJO</td>\n",
       "    </tr>\n",
       "    <tr>\n",
       "      <th>32933</th>\n",
       "      <td>yes/no</td>\n",
       "      <td>A13S7ZT69W96HR</td>\n",
       "      <td>July 2, 2014</td>\n",
       "      <td>is it good for nail beauty?</td>\n",
       "      <td>[{'answerText': 'I would say it's good for cut...</td>\n",
       "      <td>B00L5JHZJO</td>\n",
       "    </tr>\n",
       "    <tr>\n",
       "      <th>32934</th>\n",
       "      <td>open-ended</td>\n",
       "      <td>A1HHOCBWVDXSE</td>\n",
       "      <td>July 2, 2014</td>\n",
       "      <td>how can i use it for Topical Use on Dry Hair?</td>\n",
       "      <td>[{'answerText': 'A little goes a long way!  A ...</td>\n",
       "      <td>B00L5JHZJO</td>\n",
       "    </tr>\n",
       "    <tr>\n",
       "      <th>32935</th>\n",
       "      <td>open-ended</td>\n",
       "      <td>A1ZJ90GJNNH2EK</td>\n",
       "      <td>July 2, 2014</td>\n",
       "      <td>how can i use it for Deep Conditioning Session?</td>\n",
       "      <td>[{'answerText': 'You can use it as a pre-shamp...</td>\n",
       "      <td>B00L5JHZJO</td>\n",
       "    </tr>\n",
       "  </tbody>\n",
       "</table>\n",
       "<p>32936 rows × 6 columns</p>\n",
       "</div>"
      ],
      "text/plain": [
       "      questionType         askerID       questionTime  \\\n",
       "0       open-ended  A3VTSR929E3J0R  December 26, 2013   \n",
       "1       open-ended  A1LZ5DJ7AJYAXD     April 26, 2014   \n",
       "2           yes/no  A1ER8W5FAQM6G5      July 11, 2014   \n",
       "3       open-ended  A1P403R4I7LVPU  December 20, 2013   \n",
       "4       open-ended  A166KM8A5H1Z2O  February 26, 2014   \n",
       "...            ...             ...                ...   \n",
       "32931       yes/no  A164SPHD6JR4L0       July 2, 2014   \n",
       "32932       yes/no  A3LMNODD16O8J6       July 2, 2014   \n",
       "32933       yes/no  A13S7ZT69W96HR       July 2, 2014   \n",
       "32934   open-ended   A1HHOCBWVDXSE       July 2, 2014   \n",
       "32935   open-ended  A1ZJ90GJNNH2EK       July 2, 2014   \n",
       "\n",
       "                                            questionText  \\\n",
       "0      May I request for a manual instruction on this...   \n",
       "1      Having problems with the heater melting the wa...   \n",
       "2      How much wax (in pounds, for instance) does it...   \n",
       "3          How to know the expired date of this product?   \n",
       "4      I am not in the sun as I work inside. I am new...   \n",
       "...                                                  ...   \n",
       "32931              is Argan Oil Pure 100% good for Skin?   \n",
       "32932  I find myself with rough cuticles right around...   \n",
       "32933                        is it good for nail beauty?   \n",
       "32934      how can i use it for Topical Use on Dry Hair?   \n",
       "32935    how can i use it for Deep Conditioning Session?   \n",
       "\n",
       "                                                 answers        asin  \n",
       "0      [{'answerText': 'Homedics has a complete list ...  B000050FES  \n",
       "1      [{'answerText': 'I leave the unit on all the t...  B000050FES  \n",
       "2      [{'answerText': 'It came with the proper amoun...  B000050FES  \n",
       "3      [{'answerText': 'The expiration date is on the...  B000052YQ2  \n",
       "4      [{'answerText': 'This product is awesome. I do...  B000052YQ2  \n",
       "...                                                  ...         ...  \n",
       "32931  [{'answerText': 'I really like it.  It is a no...  B00L5JHZJO  \n",
       "32932  [{'answerText': 'Yes, you can. In the evening ...  B00L5JHZJO  \n",
       "32933  [{'answerText': 'I would say it's good for cut...  B00L5JHZJO  \n",
       "32934  [{'answerText': 'A little goes a long way!  A ...  B00L5JHZJO  \n",
       "32935  [{'answerText': 'You can use it as a pre-shamp...  B00L5JHZJO  \n",
       "\n",
       "[32936 rows x 6 columns]"
      ]
     },
     "execution_count": 7,
     "metadata": {},
     "output_type": "execute_result"
    }
   ],
   "source": [
    "data = df.copy()\n",
    "data\n",
    "# askerID,questionTime, asin"
   ]
  },
  {
   "cell_type": "code",
   "execution_count": 8,
   "metadata": {},
   "outputs": [
    {
     "data": {
      "text/html": [
       "<div>\n",
       "<style scoped>\n",
       "    .dataframe tbody tr th:only-of-type {\n",
       "        vertical-align: middle;\n",
       "    }\n",
       "\n",
       "    .dataframe tbody tr th {\n",
       "        vertical-align: top;\n",
       "    }\n",
       "\n",
       "    .dataframe thead th {\n",
       "        text-align: right;\n",
       "    }\n",
       "</style>\n",
       "<table border=\"1\" class=\"dataframe\">\n",
       "  <thead>\n",
       "    <tr style=\"text-align: right;\">\n",
       "      <th></th>\n",
       "      <th>questionType</th>\n",
       "      <th>questionText</th>\n",
       "      <th>answers</th>\n",
       "    </tr>\n",
       "  </thead>\n",
       "  <tbody>\n",
       "    <tr>\n",
       "      <th>0</th>\n",
       "      <td>open-ended</td>\n",
       "      <td>May I request for a manual instruction on this...</td>\n",
       "      <td>[{'answerText': 'Homedics has a complete list ...</td>\n",
       "    </tr>\n",
       "    <tr>\n",
       "      <th>1</th>\n",
       "      <td>open-ended</td>\n",
       "      <td>Having problems with the heater melting the wa...</td>\n",
       "      <td>[{'answerText': 'I leave the unit on all the t...</td>\n",
       "    </tr>\n",
       "    <tr>\n",
       "      <th>2</th>\n",
       "      <td>yes/no</td>\n",
       "      <td>How much wax (in pounds, for instance) does it...</td>\n",
       "      <td>[{'answerText': 'It came with the proper amoun...</td>\n",
       "    </tr>\n",
       "    <tr>\n",
       "      <th>3</th>\n",
       "      <td>open-ended</td>\n",
       "      <td>How to know the expired date of this product?</td>\n",
       "      <td>[{'answerText': 'The expiration date is on the...</td>\n",
       "    </tr>\n",
       "    <tr>\n",
       "      <th>4</th>\n",
       "      <td>open-ended</td>\n",
       "      <td>I am not in the sun as I work inside. I am new...</td>\n",
       "      <td>[{'answerText': 'This product is awesome. I do...</td>\n",
       "    </tr>\n",
       "    <tr>\n",
       "      <th>...</th>\n",
       "      <td>...</td>\n",
       "      <td>...</td>\n",
       "      <td>...</td>\n",
       "    </tr>\n",
       "    <tr>\n",
       "      <th>32931</th>\n",
       "      <td>yes/no</td>\n",
       "      <td>is Argan Oil Pure 100% good for Skin?</td>\n",
       "      <td>[{'answerText': 'I really like it.  It is a no...</td>\n",
       "    </tr>\n",
       "    <tr>\n",
       "      <th>32932</th>\n",
       "      <td>yes/no</td>\n",
       "      <td>I find myself with rough cuticles right around...</td>\n",
       "      <td>[{'answerText': 'Yes, you can. In the evening ...</td>\n",
       "    </tr>\n",
       "    <tr>\n",
       "      <th>32933</th>\n",
       "      <td>yes/no</td>\n",
       "      <td>is it good for nail beauty?</td>\n",
       "      <td>[{'answerText': 'I would say it's good for cut...</td>\n",
       "    </tr>\n",
       "    <tr>\n",
       "      <th>32934</th>\n",
       "      <td>open-ended</td>\n",
       "      <td>how can i use it for Topical Use on Dry Hair?</td>\n",
       "      <td>[{'answerText': 'A little goes a long way!  A ...</td>\n",
       "    </tr>\n",
       "    <tr>\n",
       "      <th>32935</th>\n",
       "      <td>open-ended</td>\n",
       "      <td>how can i use it for Deep Conditioning Session?</td>\n",
       "      <td>[{'answerText': 'You can use it as a pre-shamp...</td>\n",
       "    </tr>\n",
       "  </tbody>\n",
       "</table>\n",
       "<p>32936 rows × 3 columns</p>\n",
       "</div>"
      ],
      "text/plain": [
       "      questionType                                       questionText  \\\n",
       "0       open-ended  May I request for a manual instruction on this...   \n",
       "1       open-ended  Having problems with the heater melting the wa...   \n",
       "2           yes/no  How much wax (in pounds, for instance) does it...   \n",
       "3       open-ended      How to know the expired date of this product?   \n",
       "4       open-ended  I am not in the sun as I work inside. I am new...   \n",
       "...            ...                                                ...   \n",
       "32931       yes/no              is Argan Oil Pure 100% good for Skin?   \n",
       "32932       yes/no  I find myself with rough cuticles right around...   \n",
       "32933       yes/no                        is it good for nail beauty?   \n",
       "32934   open-ended      how can i use it for Topical Use on Dry Hair?   \n",
       "32935   open-ended    how can i use it for Deep Conditioning Session?   \n",
       "\n",
       "                                                 answers  \n",
       "0      [{'answerText': 'Homedics has a complete list ...  \n",
       "1      [{'answerText': 'I leave the unit on all the t...  \n",
       "2      [{'answerText': 'It came with the proper amoun...  \n",
       "3      [{'answerText': 'The expiration date is on the...  \n",
       "4      [{'answerText': 'This product is awesome. I do...  \n",
       "...                                                  ...  \n",
       "32931  [{'answerText': 'I really like it.  It is a no...  \n",
       "32932  [{'answerText': 'Yes, you can. In the evening ...  \n",
       "32933  [{'answerText': 'I would say it's good for cut...  \n",
       "32934  [{'answerText': 'A little goes a long way!  A ...  \n",
       "32935  [{'answerText': 'You can use it as a pre-shamp...  \n",
       "\n",
       "[32936 rows x 3 columns]"
      ]
     },
     "execution_count": 8,
     "metadata": {},
     "output_type": "execute_result"
    }
   ],
   "source": [
    "new_df = data[['questionType', 'questionText', \"answers\"]]\n",
    "new_df"
   ]
  },
  {
   "cell_type": "code",
   "execution_count": 9,
   "metadata": {},
   "outputs": [
    {
     "name": "stderr",
     "output_type": "stream",
     "text": [
      "C:\\Users\\hp\\AppData\\Local\\Temp\\ipykernel_3264\\4267083081.py:2: SettingWithCopyWarning: \n",
      "A value is trying to be set on a copy of a slice from a DataFrame.\n",
      "Try using .loc[row_indexer,col_indexer] = value instead\n",
      "\n",
      "See the caveats in the documentation: https://pandas.pydata.org/pandas-docs/stable/user_guide/indexing.html#returning-a-view-versus-a-copy\n",
      "  new_df['answerText'] = new_df['answers'].apply(lambda x: x[0]['answerText'] if x else None)\n"
     ]
    }
   ],
   "source": [
    "# Assuming df is your DataFrame with the 'answers' column\n",
    "new_df['answerText'] = new_df['answers'].apply(lambda x: x[0]['answerText'] if x else None)\n",
    "\n",
    "# Drop the 'answers' column\n",
    "new_df = new_df.drop(columns=['answers'])\n"
   ]
  },
  {
   "cell_type": "code",
   "execution_count": 10,
   "metadata": {},
   "outputs": [
    {
     "data": {
      "text/html": [
       "<div>\n",
       "<style scoped>\n",
       "    .dataframe tbody tr th:only-of-type {\n",
       "        vertical-align: middle;\n",
       "    }\n",
       "\n",
       "    .dataframe tbody tr th {\n",
       "        vertical-align: top;\n",
       "    }\n",
       "\n",
       "    .dataframe thead th {\n",
       "        text-align: right;\n",
       "    }\n",
       "</style>\n",
       "<table border=\"1\" class=\"dataframe\">\n",
       "  <thead>\n",
       "    <tr style=\"text-align: right;\">\n",
       "      <th></th>\n",
       "      <th>questionType</th>\n",
       "      <th>questionText</th>\n",
       "      <th>answerText</th>\n",
       "    </tr>\n",
       "  </thead>\n",
       "  <tbody>\n",
       "    <tr>\n",
       "      <th>0</th>\n",
       "      <td>open-ended</td>\n",
       "      <td>May I request for a manual instruction on this...</td>\n",
       "      <td>Homedics has a complete list of instruction ma...</td>\n",
       "    </tr>\n",
       "    <tr>\n",
       "      <th>1</th>\n",
       "      <td>open-ended</td>\n",
       "      <td>Having problems with the heater melting the wa...</td>\n",
       "      <td>I leave the unit on all the time so it is alwa...</td>\n",
       "    </tr>\n",
       "    <tr>\n",
       "      <th>2</th>\n",
       "      <td>yes/no</td>\n",
       "      <td>How much wax (in pounds, for instance) does it...</td>\n",
       "      <td>It came with the proper amount of wax, but thi...</td>\n",
       "    </tr>\n",
       "    <tr>\n",
       "      <th>3</th>\n",
       "      <td>open-ended</td>\n",
       "      <td>How to know the expired date of this product?</td>\n",
       "      <td>The expiration date is on the bottom of the pl...</td>\n",
       "    </tr>\n",
       "    <tr>\n",
       "      <th>4</th>\n",
       "      <td>open-ended</td>\n",
       "      <td>I am not in the sun as I work inside. I am new...</td>\n",
       "      <td>This product is awesome. I dont spend a lot of...</td>\n",
       "    </tr>\n",
       "    <tr>\n",
       "      <th>...</th>\n",
       "      <td>...</td>\n",
       "      <td>...</td>\n",
       "      <td>...</td>\n",
       "    </tr>\n",
       "    <tr>\n",
       "      <th>32931</th>\n",
       "      <td>yes/no</td>\n",
       "      <td>is Argan Oil Pure 100% good for Skin?</td>\n",
       "      <td>I really like it.  It is a non greasy moisturi...</td>\n",
       "    </tr>\n",
       "    <tr>\n",
       "      <th>32932</th>\n",
       "      <td>yes/no</td>\n",
       "      <td>I find myself with rough cuticles right around...</td>\n",
       "      <td>Yes, you can. In the evening before you go to ...</td>\n",
       "    </tr>\n",
       "    <tr>\n",
       "      <th>32933</th>\n",
       "      <td>yes/no</td>\n",
       "      <td>is it good for nail beauty?</td>\n",
       "      <td>I would say it's good for cuticles.  I can't s...</td>\n",
       "    </tr>\n",
       "    <tr>\n",
       "      <th>32934</th>\n",
       "      <td>open-ended</td>\n",
       "      <td>how can i use it for Topical Use on Dry Hair?</td>\n",
       "      <td>A little goes a long way!  A drop or two, depe...</td>\n",
       "    </tr>\n",
       "    <tr>\n",
       "      <th>32935</th>\n",
       "      <td>open-ended</td>\n",
       "      <td>how can i use it for Deep Conditioning Session?</td>\n",
       "      <td>You can use it as a pre-shampoo treatment, whe...</td>\n",
       "    </tr>\n",
       "  </tbody>\n",
       "</table>\n",
       "<p>32936 rows × 3 columns</p>\n",
       "</div>"
      ],
      "text/plain": [
       "      questionType                                       questionText  \\\n",
       "0       open-ended  May I request for a manual instruction on this...   \n",
       "1       open-ended  Having problems with the heater melting the wa...   \n",
       "2           yes/no  How much wax (in pounds, for instance) does it...   \n",
       "3       open-ended      How to know the expired date of this product?   \n",
       "4       open-ended  I am not in the sun as I work inside. I am new...   \n",
       "...            ...                                                ...   \n",
       "32931       yes/no              is Argan Oil Pure 100% good for Skin?   \n",
       "32932       yes/no  I find myself with rough cuticles right around...   \n",
       "32933       yes/no                        is it good for nail beauty?   \n",
       "32934   open-ended      how can i use it for Topical Use on Dry Hair?   \n",
       "32935   open-ended    how can i use it for Deep Conditioning Session?   \n",
       "\n",
       "                                              answerText  \n",
       "0      Homedics has a complete list of instruction ma...  \n",
       "1      I leave the unit on all the time so it is alwa...  \n",
       "2      It came with the proper amount of wax, but thi...  \n",
       "3      The expiration date is on the bottom of the pl...  \n",
       "4      This product is awesome. I dont spend a lot of...  \n",
       "...                                                  ...  \n",
       "32931  I really like it.  It is a non greasy moisturi...  \n",
       "32932  Yes, you can. In the evening before you go to ...  \n",
       "32933  I would say it's good for cuticles.  I can't s...  \n",
       "32934  A little goes a long way!  A drop or two, depe...  \n",
       "32935  You can use it as a pre-shampoo treatment, whe...  \n",
       "\n",
       "[32936 rows x 3 columns]"
      ]
     },
     "execution_count": 10,
     "metadata": {},
     "output_type": "execute_result"
    }
   ],
   "source": [
    "new_df"
   ]
  },
  {
   "cell_type": "code",
   "execution_count": 11,
   "metadata": {},
   "outputs": [
    {
     "data": {
      "text/plain": [
       "'can i put this on a toddler skin?'"
      ]
     },
     "execution_count": 11,
     "metadata": {},
     "output_type": "execute_result"
    }
   ],
   "source": [
    "new_df['questionText'].loc[5]"
   ]
  },
  {
   "cell_type": "code",
   "execution_count": 12,
   "metadata": {},
   "outputs": [
    {
     "data": {
      "text/plain": [
       "\"You could put it on a toddler's skin.. but not below 6 months.  It's for sensitive skin and SPF 15 Sunscreen.  My little 5 yr old uses it, and it's fine.  On the bottle, says vitamin E and aloe. Hope it helps ;)\""
      ]
     },
     "execution_count": 12,
     "metadata": {},
     "output_type": "execute_result"
    }
   ],
   "source": [
    "new_df['answerText'].loc[5]"
   ]
  },
  {
   "cell_type": "code",
   "execution_count": 13,
   "metadata": {},
   "outputs": [
    {
     "data": {
      "text/plain": [
       "Index(['questionType', 'questionText', 'answerText'], dtype='object')"
      ]
     },
     "execution_count": 13,
     "metadata": {},
     "output_type": "execute_result"
    }
   ],
   "source": [
    "new_df.columns"
   ]
  },
  {
   "cell_type": "code",
   "execution_count": 14,
   "metadata": {},
   "outputs": [
    {
     "name": "stdout",
     "output_type": "stream",
     "text": [
      "WARNING:tensorflow:From c:\\Users\\hp\\anaconda3\\Lib\\site-packages\\keras\\src\\losses.py:2976: The name tf.losses.sparse_softmax_cross_entropy is deprecated. Please use tf.compat.v1.losses.sparse_softmax_cross_entropy instead.\n",
      "\n"
     ]
    },
    {
     "ename": "MemoryError",
     "evalue": "Unable to allocate 5.92 GiB for an array with shape (32936, 24136) and data type int64",
     "output_type": "error",
     "traceback": [
      "\u001b[1;31m---------------------------------------------------------------------------\u001b[0m",
      "\u001b[1;31mMemoryError\u001b[0m                               Traceback (most recent call last)",
      "Cell \u001b[1;32mIn[14], line 40\u001b[0m\n\u001b[0;32m     38\u001b[0m vectorizer \u001b[38;5;241m=\u001b[39m CountVectorizer()\n\u001b[0;32m     39\u001b[0m X \u001b[38;5;241m=\u001b[39m vectorizer\u001b[38;5;241m.\u001b[39mfit_transform(bags_of_words)\n\u001b[1;32m---> 40\u001b[0m numerical_data \u001b[38;5;241m=\u001b[39m \u001b[43mX\u001b[49m\u001b[38;5;241;43m.\u001b[39;49m\u001b[43mtoarray\u001b[49m\u001b[43m(\u001b[49m\u001b[43m)\u001b[49m\n\u001b[0;32m     42\u001b[0m \u001b[38;5;66;03m# Separate features (X) and labels (Y)\u001b[39;00m\n\u001b[0;32m     43\u001b[0m train_x \u001b[38;5;241m=\u001b[39m numerical_data\n",
      "File \u001b[1;32mc:\\Users\\hp\\anaconda3\\Lib\\site-packages\\scipy\\sparse\\_compressed.py:1051\u001b[0m, in \u001b[0;36m_cs_matrix.toarray\u001b[1;34m(self, order, out)\u001b[0m\n\u001b[0;32m   1049\u001b[0m \u001b[38;5;28;01mif\u001b[39;00m out \u001b[38;5;129;01mis\u001b[39;00m \u001b[38;5;28;01mNone\u001b[39;00m \u001b[38;5;129;01mand\u001b[39;00m order \u001b[38;5;129;01mis\u001b[39;00m \u001b[38;5;28;01mNone\u001b[39;00m:\n\u001b[0;32m   1050\u001b[0m     order \u001b[38;5;241m=\u001b[39m \u001b[38;5;28mself\u001b[39m\u001b[38;5;241m.\u001b[39m_swap(\u001b[38;5;124m'\u001b[39m\u001b[38;5;124mcf\u001b[39m\u001b[38;5;124m'\u001b[39m)[\u001b[38;5;241m0\u001b[39m]\n\u001b[1;32m-> 1051\u001b[0m out \u001b[38;5;241m=\u001b[39m \u001b[38;5;28;43mself\u001b[39;49m\u001b[38;5;241;43m.\u001b[39;49m\u001b[43m_process_toarray_args\u001b[49m\u001b[43m(\u001b[49m\u001b[43morder\u001b[49m\u001b[43m,\u001b[49m\u001b[43m \u001b[49m\u001b[43mout\u001b[49m\u001b[43m)\u001b[49m\n\u001b[0;32m   1052\u001b[0m \u001b[38;5;28;01mif\u001b[39;00m \u001b[38;5;129;01mnot\u001b[39;00m (out\u001b[38;5;241m.\u001b[39mflags\u001b[38;5;241m.\u001b[39mc_contiguous \u001b[38;5;129;01mor\u001b[39;00m out\u001b[38;5;241m.\u001b[39mflags\u001b[38;5;241m.\u001b[39mf_contiguous):\n\u001b[0;32m   1053\u001b[0m     \u001b[38;5;28;01mraise\u001b[39;00m \u001b[38;5;167;01mValueError\u001b[39;00m(\u001b[38;5;124m'\u001b[39m\u001b[38;5;124mOutput array must be C or F contiguous\u001b[39m\u001b[38;5;124m'\u001b[39m)\n",
      "File \u001b[1;32mc:\\Users\\hp\\anaconda3\\Lib\\site-packages\\scipy\\sparse\\_base.py:1298\u001b[0m, in \u001b[0;36mspmatrix._process_toarray_args\u001b[1;34m(self, order, out)\u001b[0m\n\u001b[0;32m   1296\u001b[0m     \u001b[38;5;28;01mreturn\u001b[39;00m out\n\u001b[0;32m   1297\u001b[0m \u001b[38;5;28;01melse\u001b[39;00m:\n\u001b[1;32m-> 1298\u001b[0m     \u001b[38;5;28;01mreturn\u001b[39;00m \u001b[43mnp\u001b[49m\u001b[38;5;241;43m.\u001b[39;49m\u001b[43mzeros\u001b[49m\u001b[43m(\u001b[49m\u001b[38;5;28;43mself\u001b[39;49m\u001b[38;5;241;43m.\u001b[39;49m\u001b[43mshape\u001b[49m\u001b[43m,\u001b[49m\u001b[43m \u001b[49m\u001b[43mdtype\u001b[49m\u001b[38;5;241;43m=\u001b[39;49m\u001b[38;5;28;43mself\u001b[39;49m\u001b[38;5;241;43m.\u001b[39;49m\u001b[43mdtype\u001b[49m\u001b[43m,\u001b[49m\u001b[43m \u001b[49m\u001b[43morder\u001b[49m\u001b[38;5;241;43m=\u001b[39;49m\u001b[43morder\u001b[49m\u001b[43m)\u001b[49m\n",
      "\u001b[1;31mMemoryError\u001b[0m: Unable to allocate 5.92 GiB for an array with shape (32936, 24136) and data type int64"
     ]
    }
   ],
   "source": [
    "from sklearn.feature_extraction.text import CountVectorizer\n",
    "from tensorflow.keras.models import Sequential\n",
    "from tensorflow.keras.layers import Dense, Dropout\n",
    "from nltk.stem import WordNetLemmatizer\n",
    "from nltk.tokenize import word_tokenize\n",
    "import numpy as np\n",
    "\n",
    "\n",
    "\n",
    "# Assuming df1 is your DataFrame with columns 'questionType', 'questionText', and 'answerText'\n",
    "# Replace this with your actual DataFrame\n",
    "# df1 = ...\n",
    "\n",
    "# Tokenize and lemmatize the text data\n",
    "lemmatizer = WordNetLemmatizer()\n",
    "new_df['lemmatizedText'] = new_df.apply(lambda row: ' '.join([lemmatizer.lemmatize(word.lower()) for word in word_tokenize(row['questionText'] + ' ' + row['answerText'])]), axis=1)\n",
    "\n",
    "# Create a list of question types\n",
    "question_types = new_df['questionType'].unique()\n",
    "\n",
    "# Create training data for each question type\n",
    "training_data = []\n",
    "for question_type in question_types:\n",
    "    subset_df = new_df[new_df['questionType'] == question_type]\n",
    "\n",
    "    # Create bag of words representation for each question\n",
    "    for index, row in subset_df.iterrows():\n",
    "        bag = row['lemmatizedText']\n",
    "        output_row = [0] * len(question_types)\n",
    "        output_row[np.where(question_types == question_type)[0][0]] = 1\n",
    "        training_data.append([bag, output_row])\n",
    "\n",
    "# Separate bags of words and output rows\n",
    "bags_of_words = [item[0] for item in training_data]\n",
    "output_rows = [item[1] for item in training_data]\n",
    "\n",
    "# Convert to numerical data using Count Vectorization\n",
    "vectorizer = CountVectorizer()\n",
    "X = vectorizer.fit_transform(bags_of_words)\n",
    "numerical_data = X.toarray()\n",
    "\n",
    "# Separate features (X) and labels (Y)\n",
    "train_x = numerical_data\n",
    "train_y = np.array(output_rows)\n",
    "\n",
    "print(\"\\nTraining data created\")"
   ]
  },
  {
   "cell_type": "code",
   "execution_count": 15,
   "metadata": {},
   "outputs": [
    {
     "ename": "NameError",
     "evalue": "name 'train_x' is not defined",
     "output_type": "error",
     "traceback": [
      "\u001b[1;31m---------------------------------------------------------------------------\u001b[0m",
      "\u001b[1;31mNameError\u001b[0m                                 Traceback (most recent call last)",
      "Cell \u001b[1;32mIn[15], line 6\u001b[0m\n\u001b[0;32m      3\u001b[0m \u001b[38;5;28;01mfrom\u001b[39;00m \u001b[38;5;21;01msklearn\u001b[39;00m\u001b[38;5;21;01m.\u001b[39;00m\u001b[38;5;21;01mmetrics\u001b[39;00m \u001b[38;5;28;01mimport\u001b[39;00m accuracy_score\n\u001b[0;32m      5\u001b[0m \u001b[38;5;66;03m# Split the data into training and testing sets\u001b[39;00m\n\u001b[1;32m----> 6\u001b[0m train_x, test_x, train_y, test_y \u001b[38;5;241m=\u001b[39m train_test_split(\u001b[43mtrain_x\u001b[49m, train_y, test_size\u001b[38;5;241m=\u001b[39m\u001b[38;5;241m0.2\u001b[39m, random_state\u001b[38;5;241m=\u001b[39m\u001b[38;5;241m42\u001b[39m)\n\u001b[0;32m      8\u001b[0m \u001b[38;5;66;03m# Create and train the Random Forest classifier\u001b[39;00m\n\u001b[0;32m      9\u001b[0m rf_classifier \u001b[38;5;241m=\u001b[39m RandomForestClassifier(n_estimators\u001b[38;5;241m=\u001b[39m\u001b[38;5;241m100\u001b[39m, random_state\u001b[38;5;241m=\u001b[39m\u001b[38;5;241m42\u001b[39m)\n",
      "\u001b[1;31mNameError\u001b[0m: name 'train_x' is not defined"
     ]
    }
   ],
   "source": [
    "from sklearn.ensemble import RandomForestClassifier\n",
    "from sklearn.model_selection import train_test_split\n",
    "from sklearn.metrics import accuracy_score\n",
    "\n",
    "# Split the data into training and testing sets\n",
    "train_x, test_x, train_y, test_y = train_test_split(train_x, train_y, test_size=0.2, random_state=42)\n",
    "\n",
    "# Create and train the Random Forest classifier\n",
    "rf_classifier = RandomForestClassifier(n_estimators=100, random_state=42)\n",
    "rf_classifier.fit(train_x, train_y)\n",
    "\n",
    "# Predict on the test set\n",
    "rf_predictions = rf_classifier.predict(test_x)\n",
    "\n",
    "# Calculate test accuracy\n",
    "rf_test_accuracy = accuracy_score(test_y, rf_predictions)\n",
    "print(f\"\\nRandom Forest Test Accuracy: {rf_test_accuracy}\")"
   ]
  },
  {
   "cell_type": "code",
   "execution_count": null,
   "metadata": {},
   "outputs": [
    {
     "ename": "",
     "evalue": "",
     "output_type": "error",
     "traceback": [
      "\u001b[1;31mFailed to start the Kernel. \n",
      "\u001b[1;31mUnable to start Kernel 'anaconda3 (Python 3.11.4)' due to a connection timeout. \n",
      "\u001b[1;31mView Jupyter <a href='command:jupyter.viewOutput'>log</a> for further details."
     ]
    }
   ],
   "source": []
  },
  {
   "cell_type": "code",
   "execution_count": null,
   "metadata": {},
   "outputs": [
    {
     "ename": "",
     "evalue": "",
     "output_type": "error",
     "traceback": [
      "\u001b[1;31mFailed to start the Kernel. \n",
      "\u001b[1;31mUnable to start Kernel 'anaconda3 (Python 3.11.4)' due to a connection timeout. \n",
      "\u001b[1;31mView Jupyter <a href='command:jupyter.viewOutput'>log</a> for further details."
     ]
    }
   ],
   "source": [
    "from tensorflow.keras.models import Sequential\n",
    "from tensorflow.keras.layers import Dense, Dropout\n",
    "import tensorflow as tf\n",
    "\n",
    "# Create model\n",
    "model = Sequential()\n",
    "model.add(Dense(128, input_shape=(train_x.shape[1],), activation='relu'))\n",
    "model.add(Dropout(0.5))\n",
    "model.add(Dense(64, activation='relu'))\n",
    "model.add(Dropout(0.5))\n",
    "model.add(Dense(train_y.shape[1], activation='softmax'))\n",
    "print(\"First layer:\",model.layers[0].get_weights()[0])"
   ]
  },
  {
   "cell_type": "code",
   "execution_count": null,
   "metadata": {},
   "outputs": [
    {
     "ename": "",
     "evalue": "",
     "output_type": "error",
     "traceback": [
      "\u001b[1;31mFailed to start the Kernel. \n",
      "\u001b[1;31mUnable to start Kernel 'anaconda3 (Python 3.11.4)' due to a connection timeout. \n",
      "\u001b[1;31mView Jupyter <a href='command:jupyter.viewOutput'>log</a> for further details."
     ]
    }
   ],
   "source": [
    "# Compile model\n",
    "model.compile(loss='categorical_crossentropy', optimizer='adam', metrics=['accuracy'])"
   ]
  },
  {
   "cell_type": "code",
   "execution_count": null,
   "metadata": {},
   "outputs": [
    {
     "ename": "",
     "evalue": "",
     "output_type": "error",
     "traceback": [
      "\u001b[1;31mFailed to start the Kernel. \n",
      "\u001b[1;31mUnable to start Kernel 'anaconda3 (Python 3.11.4)' due to a connection timeout. \n",
      "\u001b[1;31mView Jupyter <a href='command:jupyter.viewOutput'>log</a> for further details."
     ]
    }
   ],
   "source": [
    "# Fitting the model\n",
    "hist = model.fit(train_x, train_y, epochs=200, batch_size=5, verbose=1)\n",
    "\n",
    "# # Saving the model\n",
    "model.save('chatbot_model.h5', hist)\n",
    "\n",
    "print(\"Model created\")"
   ]
  },
  {
   "cell_type": "code",
   "execution_count": null,
   "metadata": {},
   "outputs": [
    {
     "ename": "",
     "evalue": "",
     "output_type": "error",
     "traceback": [
      "\u001b[1;31mFailed to start the Kernel. \n",
      "\u001b[1;31mUnable to start Kernel 'anaconda3 (Python 3.11.4)' due to a connection timeout. \n",
      "\u001b[1;31mView Jupyter <a href='command:jupyter.viewOutput'>log</a> for further details."
     ]
    }
   ],
   "source": [
    "'''greet_inputs = (\"hello\", \"hi\",\"whassup\",\"hey\",\"howdy\",\"hola\",\"good day\", \"good morning\",\"good afternoon\",\"good evening\")\n",
    "greet_response = (\"hello\", \"hi\",\"how can i help you\")\n",
    "def greet(sentence):\n",
    "    for word in sentence.split():\n",
    "        if word.lower() in greet_inputs:\n",
    "            return random.choice(greet_response)"
   ]
  },
  {
   "cell_type": "code",
   "execution_count": null,
   "metadata": {},
   "outputs": [
    {
     "ename": "",
     "evalue": "",
     "output_type": "error",
     "traceback": [
      "\u001b[1;31mFailed to start the Kernel. \n",
      "\u001b[1;31mUnable to start Kernel 'anaconda3 (Python 3.11.4)' due to a connection timeout. \n",
      "\u001b[1;31mView Jupyter <a href='command:jupyter.viewOutput'>log</a> for further details."
     ]
    }
   ],
   "source": [
    "from sklearn.feature_extraction.text import CountVectorizer\n",
    "from tensorflow.keras.models import Sequential\n",
    "from tensorflow.keras.layers import Dense, Dropout\n",
    "from nltk.stem import WordNetLemmatizer\n",
    "from nltk.tokenize import word_tokenize\n",
    "import numpy as np\n",
    "\n",
    "\n",
    "\n",
    "# Assuming df1 is your DataFrame with columns 'questionType', 'questionText', and 'answerText'\n",
    "# Replace this with your actual DataFrame\n",
    "# df1 = ...\n",
    "\n",
    "# Tokenize and lemmatize the text data\n",
    "lemmatizer = WordNetLemmatizer()\n",
    "new_df['lemmatizedText'] = new_df.apply(lambda row: ' '.join([lemmatizer.lemmatize(word.lower()) for word in word_tokenize(row['questionText'] + ' ' + row['answerText'])]), axis=1)\n",
    "\n",
    "# Create a list of question types\n",
    "question_types = new_df['questionType'].unique()\n",
    "\n",
    "# Create training data for each question type\n",
    "training_data = []\n",
    "for question_type in question_types:\n",
    "    subset_df = new_df[new_df['questionType'] == question_type]\n",
    "\n",
    "    # Create bag of words representation for each question\n",
    "    for index, row in subset_df.iterrows():\n",
    "        bag = row['lemmatizedText']\n",
    "        output_row = [0] * len(question_types)\n",
    "        output_row[np.where(question_types == question_type)[0][0]] = 1\n",
    "        training_data.append([bag, output_row])\n",
    "\n",
    "# Separate bags of words and output rows\n",
    "bags_of_words = [item[0] for item in training_data]\n",
    "output_rows = [item[1] for item in training_data]\n",
    "\n",
    "# Convert to numerical data using Count Vectorization\n",
    "vectorizer = CountVectorizer()\n",
    "X = vectorizer.fit_transform(bags_of_words)\n",
    "numerical_data = X.toarray()\n",
    "\n",
    "# Separate features (X) and labels (Y)\n",
    "train_x = numerical_data\n",
    "train_y = np.array(output_rows)\n",
    "\n",
    "print(\"\\nTraining data created\")"
   ]
  },
  {
   "cell_type": "code",
   "execution_count": null,
   "metadata": {},
   "outputs": [
    {
     "ename": "",
     "evalue": "",
     "output_type": "error",
     "traceback": [
      "\u001b[1;31mFailed to start the Kernel. \n",
      "\u001b[1;31mUnable to start Kernel 'anaconda3 (Python 3.11.4)' due to a connection timeout. \n",
      "\u001b[1;31mView Jupyter <a href='command:jupyter.viewOutput'>log</a> for further details."
     ]
    }
   ],
   "source": [
    "from sklearn.ensemble import RandomForestClassifier\n",
    "from sklearn.model_selection import train_test_split\n",
    "from sklearn.metrics import accuracy_score\n",
    "\n",
    "# Split the data into training and testing sets\n",
    "train_x, test_x, train_y, test_y = train_test_split(train_x, train_y, test_size=0.2, random_state=42)\n",
    "\n",
    "# Create and train the Random Forest classifier\n",
    "rf_classifier = RandomForestClassifier(n_estimators=100, random_state=42)\n",
    "rf_classifier.fit(train_x, train_y)\n",
    "\n",
    "# Predict on the test set\n",
    "rf_predictions = rf_classifier.predict(test_x)\n",
    "\n",
    "# Calculate test accuracy\n",
    "rf_test_accuracy = accuracy_score(test_y, rf_predictions)\n",
    "print(f\"\\nRandom Forest Test Accuracy: {rf_test_accuracy}\")"
   ]
  },
  {
   "cell_type": "code",
   "execution_count": null,
   "metadata": {},
   "outputs": [
    {
     "ename": "",
     "evalue": "",
     "output_type": "error",
     "traceback": [
      "\u001b[1;31mFailed to start the Kernel. \n",
      "\u001b[1;31mUnable to start Kernel 'anaconda3 (Python 3.11.4)' due to a connection timeout. \n",
      "\u001b[1;31mView Jupyter <a href='command:jupyter.viewOutput'>log</a> for further details."
     ]
    }
   ],
   "source": []
  },
  {
   "cell_type": "code",
   "execution_count": null,
   "metadata": {},
   "outputs": [
    {
     "ename": "",
     "evalue": "",
     "output_type": "error",
     "traceback": [
      "\u001b[1;31mFailed to start the Kernel. \n",
      "\u001b[1;31mUnable to start Kernel 'anaconda3 (Python 3.11.4)' due to a connection timeout. \n",
      "\u001b[1;31mView Jupyter <a href='command:jupyter.viewOutput'>log</a> for further details."
     ]
    }
   ],
   "source": []
  },
  {
   "cell_type": "code",
   "execution_count": null,
   "metadata": {},
   "outputs": [
    {
     "ename": "",
     "evalue": "",
     "output_type": "error",
     "traceback": [
      "\u001b[1;31mFailed to start the Kernel. \n",
      "\u001b[1;31mUnable to start Kernel 'anaconda3 (Python 3.11.4)' due to a connection timeout. \n",
      "\u001b[1;31mView Jupyter <a href='command:jupyter.viewOutput'>log</a> for further details."
     ]
    }
   ],
   "source": []
  },
  {
   "cell_type": "code",
   "execution_count": null,
   "metadata": {},
   "outputs": [
    {
     "ename": "",
     "evalue": "",
     "output_type": "error",
     "traceback": [
      "\u001b[1;31mFailed to start the Kernel. \n",
      "\u001b[1;31mUnable to start Kernel 'anaconda3 (Python 3.11.4)' due to a connection timeout. \n",
      "\u001b[1;31mView Jupyter <a href='command:jupyter.viewOutput'>log</a> for further details."
     ]
    }
   ],
   "source": []
  },
  {
   "cell_type": "code",
   "execution_count": null,
   "metadata": {},
   "outputs": [
    {
     "ename": "",
     "evalue": "",
     "output_type": "error",
     "traceback": [
      "\u001b[1;31mFailed to start the Kernel. \n",
      "\u001b[1;31mUnable to start Kernel 'anaconda3 (Python 3.11.4)' due to a connection timeout. \n",
      "\u001b[1;31mView Jupyter <a href='command:jupyter.viewOutput'>log</a> for further details."
     ]
    }
   ],
   "source": []
  },
  {
   "cell_type": "code",
   "execution_count": null,
   "metadata": {},
   "outputs": [
    {
     "ename": "",
     "evalue": "",
     "output_type": "error",
     "traceback": [
      "\u001b[1;31mFailed to start the Kernel. \n",
      "\u001b[1;31mUnable to start Kernel 'anaconda3 (Python 3.11.4)' due to a connection timeout. \n",
      "\u001b[1;31mView Jupyter <a href='command:jupyter.viewOutput'>log</a> for further details."
     ]
    }
   ],
   "source": []
  },
  {
   "cell_type": "code",
   "execution_count": null,
   "metadata": {},
   "outputs": [
    {
     "ename": "",
     "evalue": "",
     "output_type": "error",
     "traceback": [
      "\u001b[1;31mFailed to start the Kernel. \n",
      "\u001b[1;31mUnable to start Kernel 'anaconda3 (Python 3.11.4)' due to a connection timeout. \n",
      "\u001b[1;31mView Jupyter <a href='command:jupyter.viewOutput'>log</a> for further details."
     ]
    }
   ],
   "source": []
  },
  {
   "cell_type": "code",
   "execution_count": null,
   "metadata": {},
   "outputs": [
    {
     "ename": "",
     "evalue": "",
     "output_type": "error",
     "traceback": [
      "\u001b[1;31mFailed to start the Kernel. \n",
      "\u001b[1;31mUnable to start Kernel 'anaconda3 (Python 3.11.4)' due to a connection timeout. \n",
      "\u001b[1;31mView Jupyter <a href='command:jupyter.viewOutput'>log</a> for further details."
     ]
    }
   ],
   "source": []
  },
  {
   "cell_type": "code",
   "execution_count": null,
   "metadata": {},
   "outputs": [
    {
     "ename": "",
     "evalue": "",
     "output_type": "error",
     "traceback": [
      "\u001b[1;31mFailed to start the Kernel. \n",
      "\u001b[1;31mUnable to start Kernel 'anaconda3 (Python 3.11.4)' due to a connection timeout. \n",
      "\u001b[1;31mView Jupyter <a href='command:jupyter.viewOutput'>log</a> for further details."
     ]
    }
   ],
   "source": []
  },
  {
   "cell_type": "code",
   "execution_count": null,
   "metadata": {},
   "outputs": [
    {
     "ename": "",
     "evalue": "",
     "output_type": "error",
     "traceback": [
      "\u001b[1;31mFailed to start the Kernel. \n",
      "\u001b[1;31mUnable to start Kernel 'anaconda3 (Python 3.11.4)' due to a connection timeout. \n",
      "\u001b[1;31mView Jupyter <a href='command:jupyter.viewOutput'>log</a> for further details."
     ]
    }
   ],
   "source": []
  },
  {
   "cell_type": "code",
   "execution_count": null,
   "metadata": {},
   "outputs": [
    {
     "ename": "",
     "evalue": "",
     "output_type": "error",
     "traceback": [
      "\u001b[1;31mFailed to start the Kernel. \n",
      "\u001b[1;31mUnable to start Kernel 'anaconda3 (Python 3.11.4)' due to a connection timeout. \n",
      "\u001b[1;31mView Jupyter <a href='command:jupyter.viewOutput'>log</a> for further details."
     ]
    }
   ],
   "source": []
  },
  {
   "cell_type": "code",
   "execution_count": null,
   "metadata": {},
   "outputs": [
    {
     "ename": "",
     "evalue": "",
     "output_type": "error",
     "traceback": [
      "\u001b[1;31mFailed to start the Kernel. \n",
      "\u001b[1;31mUnable to start Kernel 'anaconda3 (Python 3.11.4)' due to a connection timeout. \n",
      "\u001b[1;31mView Jupyter <a href='command:jupyter.viewOutput'>log</a> for further details."
     ]
    }
   ],
   "source": []
  },
  {
   "cell_type": "code",
   "execution_count": null,
   "metadata": {},
   "outputs": [
    {
     "ename": "",
     "evalue": "",
     "output_type": "error",
     "traceback": [
      "\u001b[1;31mFailed to start the Kernel. \n",
      "\u001b[1;31mUnable to start Kernel 'anaconda3 (Python 3.11.4)' due to a connection timeout. \n",
      "\u001b[1;31mView Jupyter <a href='command:jupyter.viewOutput'>log</a> for further details."
     ]
    }
   ],
   "source": [
    "\n"
   ]
  }
 ],
 "metadata": {
  "kernelspec": {
   "display_name": "Python 3",
   "language": "python",
   "name": "python3"
  },
  "language_info": {
   "codemirror_mode": {
    "name": "ipython",
    "version": 3
   },
   "file_extension": ".py",
   "mimetype": "text/x-python",
   "name": "python",
   "nbconvert_exporter": "python",
   "pygments_lexer": "ipython3",
   "version": "3.11.4"
  }
 },
 "nbformat": 4,
 "nbformat_minor": 2
}
